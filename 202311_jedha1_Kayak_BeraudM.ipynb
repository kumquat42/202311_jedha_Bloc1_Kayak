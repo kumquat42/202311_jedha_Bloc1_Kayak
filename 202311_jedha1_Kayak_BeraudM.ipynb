{
 "cells": [
  {
   "cell_type": "markdown",
   "metadata": {},
   "source": [
    "# Application_Voyage - Kayak\n",
    "\n",
    "*jedha Nov. 2023*  \n",
    "Mélanie Beraud _ melanie.beraud@gmail.com"
   ]
  },
  {
   "cell_type": "markdown",
   "metadata": {},
   "source": [
    "### API or website to scape:\n",
    "GPS coordinates: https://nominatim.org/  \n",
    "Weather: https://openweathermap.org/appid   \n",
    "Hotels: booking.com"
   ]
  },
  {
   "cell_type": "markdown",
   "metadata": {},
   "source": [
    "## Imports\n",
    "### Import Librairies"
   ]
  },
  {
   "cell_type": "code",
   "execution_count": 1,
   "metadata": {},
   "outputs": [],
   "source": [
    "# import\n",
    "## import for API use\n",
    "import requests\n",
    "import pandas as pd"
   ]
  },
  {
   "cell_type": "markdown",
   "metadata": {},
   "source": [
    "### Import fichiers et données importantes"
   ]
  },
  {
   "cell_type": "code",
   "execution_count": 2,
   "metadata": {},
   "outputs": [],
   "source": [
    "top_35 = [\"Mont Saint Michel\", \"St Malo\", \"Bayeux\", \"Le Havre\", \"Rouen\", \n",
    "          \"Paris\", \"Amiens\", \"Lille\", \"Strasbourg\", \"Chateau du Haut Koenigsbourg\",\n",
    "           \"Colmar\", \"Eguisheim\", \"Besancon\", \"Dijon\", \"Annecy\", \n",
    "           \"Grenoble\", \"Lyon\", \"Gorges du Verdon\", \"Bormes les Mimosas\", \"Cassis\", \n",
    "           \"Marseille\", \"Aix en Provence\", \"Avignon\", \"Uzes\", \"Nimes\", \n",
    "           \"Aigues Mortes\", \"Saintes Maries de la mer\", \"Collioure\", \"Carcassonne\", \"Ariege\", \n",
    "           \"Toulouse\", \"Montauban\", \"Biarritz\", \"Bayonne\", \"La Rochelle\"]\n"
   ]
  },
  {
   "cell_type": "markdown",
   "metadata": {},
   "source": [
    "## GPS coordinates\n",
    "\n",
    "https://nominatim.openstreetmap.org/\n",
    "    /search - search OSM objects by name or type\n",
    "    /reverse - search OSM object by their location\n",
    "    /lookup - look up address details for OSM objects by their ID\n",
    "    /status - query the status of the server\n",
    "    /deletable - list objects that have been deleted in OSM but are held back in Nominatim in case the deletion was accidental\n",
    "    /polygons - list of broken polygons detected by Nominatim\n",
    "    /details - show internal details for an object (for debugging only)"
   ]
  },
  {
   "cell_type": "code",
   "execution_count": 26,
   "metadata": {},
   "outputs": [
    {
     "name": "stdout",
     "output_type": "stream",
     "text": [
      "ReponseStatus:\n",
      " <Response [200]>\n",
      "Retour en texte:\n",
      " [{\"place_id\":83293737,\"licence\":\"Data © OpenStreetMap contributors, ODbL 1.0. http://osm.org/copyright\",\"osm_type\":\"relation\",\"osm_id\":71525,\"lat\":\"48.8534951\",\"lon\":\"2.3483915\",\"class\":\"boundary\",\"type\":\"administrative\",\"place_rank\":12,\"importance\":0.8317101715588673,\"addresstype\":\"city\",\"name\":\"Paris\",\"display_name\":\"Paris, Île-de-France, France métropolitaine, France\",\"boundingbox\":[\"48.8155755\",\"48.9021560\",\"2.2241220\",\"2.4697602\"]},{\"place_id\":83293355,\"licence\":\"Data © OpenStreetMap contributors, ODbL 1.0. http://osm.org/copyright\",\"osm_type\":\"relation\",\"osm_id\":7444,\"lat\":\"48.8588897\",\"lon\":\"2.3200410217200766\",\"class\":\"boundary\",\"type\":\"administrative\",\"place_rank\":15,\"importance\":0.8317101715588673,\"addresstype\":\"suburb\",\"name\":\"Paris\",\"display_name\":\"Paris, Île-de-France, France métropolitaine, France\",\"boundingbox\":[\"48.8155755\",\"48.9021560\",\"2.2241220\",\"2.4697602\"]}]\n"
     ]
    }
   ],
   "source": [
    "payload = {'city':'Paris', 'format':'json'}\n",
    "#payload='Paris' #idem\n",
    "\n",
    "reponse = requests.get('https://nominatim.openstreetmap.org/search', params=payload)\n",
    "\n",
    "print('ReponseStatus:\\n', reponse) #200\n",
    "print('Retour en texte:\\n', reponse.text) # no gps coordinates\n",
    "#print('Retour cookies:\\n', reponse.cookies)\n",
    "#print('Retour headers:\\n', reponse.headers)\n",
    "data_r = reponse.json()['adresstype'=='city']"
   ]
  },
  {
   "cell_type": "code",
   "execution_count": 37,
   "metadata": {},
   "outputs": [],
   "source": [
    "data_r = reponse.json()['adresstype'=='city']"
   ]
  },
  {
   "cell_type": "markdown",
   "metadata": {},
   "source": [
    "reponse.text\n",
    "[{\"place_id\":83293737,\"licence\":\"Data © OpenStreetMap contributors, ODbL 1.0. http://osm.org/copyright\",\"osm_type\":\"relation\",\"osm_id\":71525,\"lat\":\"48.8534951\",\"lon\":\"2.3483915\",\"class\":\"boundary\",\"type\":\"administrative\",\"place_rank\":12,\"importance\":0.8317101715588673,\"addresstype\":\"city\",\"name\":\"Paris\",\"display_name\":\"Paris, Île-de-France, France métropolitaine, France\",\"boundingbox\":[\"48.8155755\",\"48.9021560\",\"2.2241220\",\"2.4697602\"]},{\"place_id\":83293355,\"licence\":\"Data © OpenStreetMap contributors, ODbL 1.0. http://osm.org/copyright\",\"osm_type\":\"relation\",\"osm_id\":7444,\"lat\":\"48.8588897\",\"lon\":\"2.3200410217200766\",\"class\":\"boundary\",\"type\":\"administrative\",\"place_rank\":15,\"importance\":0.8317101715588673,\"addresstype\":\"suburb\",\"name\":\"Paris\",\"display_name\":\"Paris, Île-de-France, France métropolitaine, France\",\"boundingbox\":[\"48.8155755\",\"48.9021560\",\"2.2241220\",\"2.4697602\"]}]"
   ]
  },
  {
   "cell_type": "code",
   "execution_count": 40,
   "metadata": {},
   "outputs": [
    {
     "data": {
      "text/plain": [
       "{'place_id': 83293737,\n",
       " 'licence': 'Data © OpenStreetMap contributors, ODbL 1.0. http://osm.org/copyright',\n",
       " 'osm_type': 'relation',\n",
       " 'osm_id': 71525,\n",
       " 'lat': '48.8534951',\n",
       " 'lon': '2.3483915',\n",
       " 'class': 'boundary',\n",
       " 'type': 'administrative',\n",
       " 'place_rank': 12,\n",
       " 'importance': 0.8317101715588673,\n",
       " 'addresstype': 'city',\n",
       " 'name': 'Paris',\n",
       " 'display_name': 'Paris, Île-de-France, France métropolitaine, France',\n",
       " 'boundingbox': ['48.8155755', '48.9021560', '2.2241220', '2.4697602']}"
      ]
     },
     "execution_count": 40,
     "metadata": {},
     "output_type": "execute_result"
    }
   ],
   "source": [
    "data_r"
   ]
  },
  {
   "cell_type": "code",
   "execution_count": 43,
   "metadata": {},
   "outputs": [
    {
     "data": {
      "text/plain": [
       "{'ville': 'Paris',\n",
       " 'place_id': 83293737,\n",
       " 'lat': '48.8534951',\n",
       " 'lon': '2.3483915',\n",
       " 'display_name': 'Paris, Île-de-France, France métropolitaine, France'}"
      ]
     },
     "execution_count": 43,
     "metadata": {},
     "output_type": "execute_result"
    }
   ],
   "source": [
    "#data_r['adresstype'=='city']['lat']\n",
    "data_r\n",
    "coord = {'ville':data_r['name'], 'place_id': data_r['place_id'], 'lat':data_r['lat'],'lon':data_r['lon'], 'display_name':data_r['display_name']}\n",
    "coord"
   ]
  }
 ],
 "metadata": {
  "kernelspec": {
   "display_name": "Python 3",
   "language": "python",
   "name": "python3"
  },
  "language_info": {
   "codemirror_mode": {
    "name": "ipython",
    "version": 3
   },
   "file_extension": ".py",
   "mimetype": "text/x-python",
   "name": "python",
   "nbconvert_exporter": "python",
   "pygments_lexer": "ipython3",
   "version": "3.10.12"
  }
 },
 "nbformat": 4,
 "nbformat_minor": 2
}
