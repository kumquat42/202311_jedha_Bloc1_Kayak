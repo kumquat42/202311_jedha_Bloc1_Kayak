{
 "cells": [
  {
   "cell_type": "markdown",
   "metadata": {},
   "source": [
    "# Application_Voyage - Kayak\n",
    "\n",
    "*jedha Nov. 2023*  \n",
    "Mélanie Beraud _ melanie.beraud@gmail.com"
   ]
  },
  {
   "cell_type": "markdown",
   "metadata": {},
   "source": [
    "### API or website to scape:\n",
    "GPS coordinates: https://nominatim.org/  \n",
    "Weather: https://openweathermap.org/appid   \n",
    "Hotels: booking.com"
   ]
  },
  {
   "cell_type": "markdown",
   "metadata": {},
   "source": [
    "## Imports\n",
    "### Import Librairies"
   ]
  },
  {
   "cell_type": "code",
   "execution_count": 122,
   "metadata": {},
   "outputs": [
    {
     "data": {
      "text/html": [
       "        <script type=\"text/javascript\">\n",
       "        window.PlotlyConfig = {MathJaxConfig: 'local'};\n",
       "        if (window.MathJax && window.MathJax.Hub && window.MathJax.Hub.Config) {window.MathJax.Hub.Config({SVG: {font: \"STIX-Web\"}});}\n",
       "        if (typeof require !== 'undefined') {\n",
       "        require.undef(\"plotly\");\n",
       "        requirejs.config({\n",
       "            paths: {\n",
       "                'plotly': ['https://cdn.plot.ly/plotly-2.26.0.min']\n",
       "            }\n",
       "        });\n",
       "        require(['plotly'], function(Plotly) {\n",
       "            window._Plotly = Plotly;\n",
       "        });\n",
       "        }\n",
       "        </script>\n",
       "        "
      ]
     },
     "metadata": {},
     "output_type": "display_data"
    },
    {
     "name": "stdout",
     "output_type": "stream",
     "text": [
      "Libraires imported\n"
     ]
    }
   ],
   "source": [
    "# import\n",
    "## import for API use\n",
    "import requests\n",
    "import pandas as pd\n",
    "\n",
    "# import for graphs\n",
    "import matplotlib.pyplot as plt\n",
    "##import seaborn as sns\n",
    "\n",
    "#import plotly.io as pio\n",
    "import plotly.express as px\n",
    "#import plotly.offline as pyo\n",
    "#from plotly import graph_objects as go\n",
    "#from plotly.subplots import make_subplots\n",
    "#pio.renderers.default = \"iframe_connected\" # permet d'avoir de l'interactivité\n",
    "#pyo.init_notebook_mode(True)\n",
    "\n",
    "#https://plotly.com/python/renderers/\n",
    "#These renderers write figures out as standalone HTML files and then display iframe elements that reference these HTML files.\n",
    "#With the iframe renderers, the figure data are stored in the individual HTML files rather than in the notebook itself, resulting in a smaller notebook size.\n",
    "#renderer=\"notebook_connected\": This saves a few megabytes in notebook size, but an Internet connection is required in order to display figures that are rendered this way.\n",
    "\n",
    "\n",
    "\n",
    "\n",
    "print('Libraires imported')"
   ]
  },
  {
   "cell_type": "markdown",
   "metadata": {},
   "source": [
    "https://www.youtube.com/watch?v=2SRRyKTl2IY"
   ]
  },
  {
   "cell_type": "markdown",
   "metadata": {},
   "source": [
    "### Import fichiers et données importantes"
   ]
  },
  {
   "cell_type": "code",
   "execution_count": 4,
   "metadata": {},
   "outputs": [
    {
     "name": "stdout",
     "output_type": "stream",
     "text": [
      "List 'top_35' imported\n"
     ]
    }
   ],
   "source": [
    "top_35 = [\"Mont Saint Michel\", \"St Malo\", \"Bayeux\", \"Le Havre\", \"Rouen\", \n",
    "          \"Paris\", \"Amiens\", \"Lille\", \"Strasbourg\", \"Chateau du Haut Koenigsbourg\",\n",
    "           \"Colmar\", \"Eguisheim\", \"Besancon\", \"Dijon\", \"Annecy\", \n",
    "           \"Grenoble\", \"Lyon\", \"Gorges du Verdon\", \"Bormes les Mimosas\", \"Cassis\", \n",
    "           \"Marseille\", \"Aix en Provence\", \"Avignon\", \"Uzes\", \"Nimes\", \n",
    "           \"Aigues Mortes\", \"Saintes Maries de la mer\", \"Collioure\", \"Carcassonne\", \"Ariege\", \n",
    "           \"Toulouse\", \"Montauban\", \"Biarritz\", \"Bayonne\", \"La Rochelle\"]\n",
    "\n",
    "print('List \\'top_35\\' imported')"
   ]
  },
  {
   "cell_type": "markdown",
   "metadata": {},
   "source": [
    "## GPS coordinates\n",
    "\n",
    "https://nominatim.openstreetmap.org/\n",
    "\n",
    "    /search - search OSM objects by name or type\n",
    "    /reverse - search OSM object by their location\n",
    "    /lookup - look up address details for OSM objects by their ID\n",
    "    /status - query the status of the server\n",
    "    /deletable - list objects that have been deleted in OSM but are held back in Nominatim in case the deletion was accidental\n",
    "    /polygons - list of broken polygons detected by Nominatim\n",
    "    /details - show internal details for an object (for debugging only)"
   ]
  },
  {
   "cell_type": "code",
   "execution_count": 17,
   "metadata": {},
   "outputs": [
    {
     "name": "stdout",
     "output_type": "stream",
     "text": [
      "ReponseStatus:\n",
      " <Response [200]>\n",
      "Retour en texte:\n",
      " [{\"place_id\":83293737,\"licence\":\"Data © OpenStreetMap contributors, ODbL 1.0. http://osm.org/copyright\",\"osm_type\":\"relation\",\"osm_id\":71525,\"lat\":\"48.8534951\",\"lon\":\"2.3483915\",\"class\":\"boundary\",\"type\":\"administrative\",\"place_rank\":12,\"importance\":0.8317101715588673,\"addresstype\":\"city\",\"name\":\"Paris\",\"display_name\":\"Paris, Île-de-France, France métropolitaine, France\",\"boundingbox\":[\"48.8155755\",\"48.9021560\",\"2.2241220\",\"2.4697602\"]},{\"place_id\":83293355,\"licence\":\"Data © OpenStreetMap contributors, ODbL 1.0. http://osm.org/copyright\",\"osm_type\":\"relation\",\"osm_id\":7444,\"lat\":\"48.8588897\",\"lon\":\"2.3200410217200766\",\"class\":\"boundary\",\"type\":\"administrative\",\"place_rank\":15,\"importance\":0.8317101715588673,\"addresstype\":\"suburb\",\"name\":\"Paris\",\"display_name\":\"Paris, Île-de-France, France métropolitaine, France\",\"boundingbox\":[\"48.8155755\",\"48.9021560\",\"2.2241220\",\"2.4697602\"]}]\n"
     ]
    },
    {
     "data": {
      "text/plain": [
       "dict"
      ]
     },
     "execution_count": 17,
     "metadata": {},
     "output_type": "execute_result"
    }
   ],
   "source": [
    "# set city parameters\n",
    "payload = {'city':'Paris', 'format':'json'}\n",
    "#payload='Paris' #idem\n",
    "\n",
    "# go fetch !\n",
    "reponse = requests.get('https://nominatim.openstreetmap.org/search', params=payload)\n",
    "\n",
    "print('ReponseStatus:\\n', reponse) #200\n",
    "print('Retour en texte:\\n', reponse.text) # no gps coordinates\n",
    "#print('Retour cookies:\\n', reponse.cookies)\n",
    "#print('Retour headers:\\n', reponse.headers)\n",
    "\n",
    "# write json\n",
    "data_r = reponse.json()['adresstype'=='city']\n",
    "\n",
    "# recover interesting data from json\n",
    "coord = {'ville':data_r['name'], 'place_id': data_r['place_id'], \n",
    "         'lon':data_r['lon'], \n",
    "         'lat':data_r['lat'], \n",
    "         'lon/lat': data_r['lon'] + '/' + data_r['lat'], \n",
    "         'display_name':data_r['display_name']}\n",
    "type(coord) #dict"
   ]
  },
  {
   "cell_type": "code",
   "execution_count": 18,
   "metadata": {},
   "outputs": [
    {
     "data": {
      "text/plain": [
       "{'ville': 'Paris',\n",
       " 'place_id': 83293737,\n",
       " 'lon': '2.3483915',\n",
       " 'lat': '48.8534951',\n",
       " 'lon/lat': '2.3483915/48.8534951',\n",
       " 'display_name': 'Paris, Île-de-France, France métropolitaine, France'}"
      ]
     },
     "execution_count": 18,
     "metadata": {},
     "output_type": "execute_result"
    }
   ],
   "source": []
  },
  {
   "cell_type": "markdown",
   "metadata": {},
   "source": [
    "Example reponse.text :\n",
    "[{\"place_id\":83293737,\"licence\":\"Data © OpenStreetMap contributors, ODbL 1.0. http://osm.org/copyright\",\"osm_type\":\"relation\",\"osm_id\":71525,\"lat\":\"48.8534951\",\"lon\":\"2.3483915\",\"class\":\"boundary\",\"type\":\"administrative\",\"place_rank\":12,\"importance\":0.8317101715588673,\"addresstype\":\"city\",\"name\":\"Paris\",\"display_name\":\"Paris, Île-de-France, France métropolitaine, France\",\"boundingbox\":[\"48.8155755\",\"48.9021560\",\"2.2241220\",\"2.4697602\"]},{\"place_id\":83293355,\"licence\":\"Data © OpenStreetMap contributors, ODbL 1.0. http://osm.org/copyright\",\"osm_type\":\"relation\",\"osm_id\":7444,\"lat\":\"48.8588897\",\"lon\":\"2.3200410217200766\",\"class\":\"boundary\",\"type\":\"administrative\",\"place_rank\":15,\"importance\":0.8317101715588673,\"addresstype\":\"suburb\",\"name\":\"Paris\",\"display_name\":\"Paris, Île-de-France, France métropolitaine, France\",\"boundingbox\":[\"48.8155755\",\"48.9021560\",\"2.2241220\",\"2.4697602\"]}]\n",
    "Example data_r:\n",
    "{'place_id': 83293737,\n",
    " 'licence': 'Data © OpenStreetMap contributors, ODbL 1.0. http://osm.org/copyright',\n",
    " 'osm_type': 'relation',\n",
    " 'osm_id': 71525,\n",
    " 'lat': '48.8534951',\n",
    " 'lon': '2.3483915',\n",
    " 'class': 'boundary',\n",
    " 'type': 'administrative',\n",
    " 'place_rank': 12,\n",
    " 'importance': 0.8317101715588673,\n",
    " 'addresstype': 'city',\n",
    " 'name': 'Paris',\n",
    " 'display_name': 'Paris, Île-de-France, France métropolitaine, France',\n",
    " 'boundingbox': ['48.8155755', '48.9021560', '2.2241220', '2.4697602']}\n",
    "\n",
    " Example coord:\n",
    " {'ville': 'Paris',\n",
    " 'place_id': 83293737,\n",
    " 'lat': '48.8534951',\n",
    " 'lon': '2.3483915',\n",
    " 'display_name': 'Paris, Île-de-France, France métropolitaine, France'}"
   ]
  },
  {
   "cell_type": "code",
   "execution_count": 28,
   "metadata": {},
   "outputs": [
    {
     "name": "stdout",
     "output_type": "stream",
     "text": [
      "<class 'pandas.core.frame.DataFrame'>\n"
     ]
    },
    {
     "data": {
      "text/html": [
       "<div>\n",
       "<style scoped>\n",
       "    .dataframe tbody tr th:only-of-type {\n",
       "        vertical-align: middle;\n",
       "    }\n",
       "\n",
       "    .dataframe tbody tr th {\n",
       "        vertical-align: top;\n",
       "    }\n",
       "\n",
       "    .dataframe thead th {\n",
       "        text-align: right;\n",
       "    }\n",
       "</style>\n",
       "<table border=\"1\" class=\"dataframe\">\n",
       "  <thead>\n",
       "    <tr style=\"text-align: right;\">\n",
       "      <th></th>\n",
       "      <th>ville</th>\n",
       "      <th>place_id</th>\n",
       "      <th>lon</th>\n",
       "      <th>lat</th>\n",
       "      <th>lon/lat</th>\n",
       "      <th>display_name</th>\n",
       "    </tr>\n",
       "  </thead>\n",
       "  <tbody>\n",
       "    <tr>\n",
       "      <th>1</th>\n",
       "      <td>Paris</td>\n",
       "      <td>83293737</td>\n",
       "      <td>2.3483915</td>\n",
       "      <td>48.8534951</td>\n",
       "      <td>2.3483915/48.8534951</td>\n",
       "      <td>Paris, Île-de-France, France métropolitaine, F...</td>\n",
       "    </tr>\n",
       "  </tbody>\n",
       "</table>\n",
       "</div>"
      ],
      "text/plain": [
       "   ville  place_id        lon         lat               lon/lat  \\\n",
       "1  Paris  83293737  2.3483915  48.8534951  2.3483915/48.8534951   \n",
       "\n",
       "                                        display_name  \n",
       "1  Paris, Île-de-France, France métropolitaine, F...  "
      ]
     },
     "execution_count": 28,
     "metadata": {},
     "output_type": "execute_result"
    }
   ],
   "source": [
    "#USELESS TRANSFO FOR NOW\n",
    "''' \n",
    "coord['lon/lat'] = coord['lon'] + '/' + coord['lat']\n",
    "coord\n",
    "\n",
    "df_coord = pd.DataFrame(coord, index = [1])\n",
    "print(type(df_coord))\n",
    "df_coord\n",
    "'''"
   ]
  },
  {
   "cell_type": "code",
   "execution_count": null,
   "metadata": {},
   "outputs": [],
   "source": [
    "''' DO NOT RUN - MAPS tests using go\n",
    "\n",
    "fig = px.scatter_geo(df_coord['lon/lat'],\n",
    "                     name=\"Paris\"\n",
    "                     #, locations = df_coord['ville'],\n",
    "                     #size=1#_ size of markers, \"pop\" is one of the columns of gapminder\n",
    "                     )\n",
    "plotly.graph_objects.Scattergeo\n",
    "fig.show() # affiche le graph, mais pas la lat et la long\n",
    "\n",
    "\n",
    "coord = {'lon': [2.3483915],'lat': [48.8534951]} #,'lon/lat': '2.3483915, 48.8534951'} #, 'city':'Paris','':\n",
    "#coord = {'cluster': [2.3483915, 48.8534951]} doesn't work\n",
    "\n",
    "fig = go.Scattermapbox(coord) \n",
    "type(fig) # en fait, c'est une espèce de dico que l'on créé... Pas du tout un graphique en lui même. Il faut ensuite l'appeler avec px ou autre\n",
    "# car c'est un objet appelable dans une fonction px. Donc on doit ensuite le montrer soit avec la classe go.Figure (appeler en instance), soit avec px\n",
    "\n",
    "\n",
    "#fig = Figure([data, layout, frames, skip_invalid])\n",
    "fig = go.Figure(                                                            #si je le mets là, je n'ai pas à le mettre avec px ensuite...\n",
    "    data = go.Scattermapbox(coord,                                           #data = go.Scattermapbox(coord['lat/lon'] #ne fonctionne pas avec lat/lon\n",
    "    mode = 'markers'#, \n",
    "                                                                        #marker = go.scatter.Marker(color = 'city') # separation par couleurs\n",
    "    ),\n",
    "    layout = go.Layout(\n",
    "        title = go.layout.Title(text = \"MappingCities\", x = 0.5), # centre\n",
    "        #xaxis = go.layout.XAxis(title = 'Sepal width', range = [0, 5]),\n",
    "        #yaxis = go.layout.YAxis(title = 'Sepal length', range = [0, 10])\n",
    "    )\n",
    ")\n",
    "#fig\n",
    "px.scatter_geo().show(renderer=\"notebook_connected\")\n",
    "fig.show(renderer=\"notebook_connected\") # j'ai un titre et rien en dessous need the rendered of doesn't work. eful here because already in the import zone.\n",
    "#px.scatter_geo(fig).show()  # j'ai une map du monde, mais elle est vide\n",
    "#px.scatter(fig).show() # j'ai un scatter plot avec des valeurs type data, layout, frames (valeur du goScattermapbox)\n",
    "\n",
    "\n",
    "DOESN'T WORK\n",
    "coord = {'lon': [2.3483915],'lat': [48.8534951]}#,'city':['Paris']}\n",
    "\n",
    "fig = go.Figure(                                                            #si je le mets là, je n'ai pas à le mettre avec px ensuite...\n",
    "    data = go.Scattermapbox(coord,                                           #data = go.Scattermapbox(coord['lat/lon'] #ne fonctionne pas avec lat/lon\n",
    "    mode = 'markers'#, \n",
    "                                                                        #marker = go.scatter.Marker(color = 'city') # separation par couleurs\n",
    "    ),\n",
    "    layout = go.Layout(\n",
    "        title = go.layout.Title(text = \"MappingCities\", x = 0.5), # centre\n",
    "        #xaxis = go.layout.XAxis(title = 'Sepal width', range = [0, 5]),\n",
    "        #yaxis = go.layout.YAxis(title = 'Sepal length', range = [0, 10])\n",
    "    )\n",
    ")\n",
    "\n",
    "fig3 = px.scatter_mapbox(data_frame = fig,\n",
    "                         #text = 'city', already on the map\n",
    "                         #title = 'Cities',\n",
    "                         mapbox_style = 'carto-positron')   #,size=, mapbox_style='open-street-map' = very precise\n",
    "fig3.show(renderer=\"notebook_connected\") # nothing, not even a map\n",
    "\n",
    "'''"
   ]
  },
  {
   "cell_type": "code",
   "execution_count": 182,
   "metadata": {},
   "outputs": [
    {
     "data": {
      "text/html": [
       "<div>\n",
       "<style scoped>\n",
       "    .dataframe tbody tr th:only-of-type {\n",
       "        vertical-align: middle;\n",
       "    }\n",
       "\n",
       "    .dataframe tbody tr th {\n",
       "        vertical-align: top;\n",
       "    }\n",
       "\n",
       "    .dataframe thead th {\n",
       "        text-align: right;\n",
       "    }\n",
       "</style>\n",
       "<table border=\"1\" class=\"dataframe\">\n",
       "  <thead>\n",
       "    <tr style=\"text-align: right;\">\n",
       "      <th></th>\n",
       "      <th>lon</th>\n",
       "      <th>lat</th>\n",
       "      <th>city</th>\n",
       "    </tr>\n",
       "  </thead>\n",
       "  <tbody>\n",
       "    <tr>\n",
       "      <th>1</th>\n",
       "      <td>2.348391</td>\n",
       "      <td>48.853495</td>\n",
       "      <td>Paris</td>\n",
       "    </tr>\n",
       "  </tbody>\n",
       "</table>\n",
       "</div>"
      ],
      "text/plain": [
       "        lon        lat   city\n",
       "1  2.348391  48.853495  Paris"
      ]
     },
     "metadata": {},
     "output_type": "display_data"
    },
    {
     "data": {
      "text/html": [
       "        <script type=\"text/javascript\">\n",
       "        window.PlotlyConfig = {MathJaxConfig: 'local'};\n",
       "        if (window.MathJax && window.MathJax.Hub && window.MathJax.Hub.Config) {window.MathJax.Hub.Config({SVG: {font: \"STIX-Web\"}});}\n",
       "        if (typeof require !== 'undefined') {\n",
       "        require.undef(\"plotly\");\n",
       "        requirejs.config({\n",
       "            paths: {\n",
       "                'plotly': ['https://cdn.plot.ly/plotly-2.26.0.min']\n",
       "            }\n",
       "        });\n",
       "        require(['plotly'], function(Plotly) {\n",
       "            window._Plotly = Plotly;\n",
       "        });\n",
       "        }\n",
       "        </script>\n",
       "        "
      ]
     },
     "metadata": {},
     "output_type": "display_data"
    },
    {
     "data": {
      "text/html": [
       "<div>                            <div id=\"8e5c408e-9427-4925-b14e-05100dd4cbb1\" class=\"plotly-graph-div\" style=\"height:525px; width:100%;\"></div>            <script type=\"text/javascript\">                require([\"plotly\"], function(Plotly) {                    window.PLOTLYENV=window.PLOTLYENV || {};                                    if (document.getElementById(\"8e5c408e-9427-4925-b14e-05100dd4cbb1\")) {                    Plotly.newPlot(                        \"8e5c408e-9427-4925-b14e-05100dd4cbb1\",                        [{\"hovertemplate\":\"lat=%{lat}\\u003cbr\\u003elon=%{lon}\\u003cextra\\u003e\\u003c\\u002fextra\\u003e\",\"lat\":[48.8534951],\"legendgroup\":\"\",\"lon\":[2.3483915],\"marker\":{\"color\":\"#636efa\"},\"mode\":\"markers\",\"name\":\"\",\"showlegend\":false,\"subplot\":\"mapbox\",\"type\":\"scattermapbox\"}],                        {\"template\":{\"data\":{\"histogram2dcontour\":[{\"type\":\"histogram2dcontour\",\"colorbar\":{\"outlinewidth\":0,\"ticks\":\"\"},\"colorscale\":[[0.0,\"#0d0887\"],[0.1111111111111111,\"#46039f\"],[0.2222222222222222,\"#7201a8\"],[0.3333333333333333,\"#9c179e\"],[0.4444444444444444,\"#bd3786\"],[0.5555555555555556,\"#d8576b\"],[0.6666666666666666,\"#ed7953\"],[0.7777777777777778,\"#fb9f3a\"],[0.8888888888888888,\"#fdca26\"],[1.0,\"#f0f921\"]]}],\"choropleth\":[{\"type\":\"choropleth\",\"colorbar\":{\"outlinewidth\":0,\"ticks\":\"\"}}],\"histogram2d\":[{\"type\":\"histogram2d\",\"colorbar\":{\"outlinewidth\":0,\"ticks\":\"\"},\"colorscale\":[[0.0,\"#0d0887\"],[0.1111111111111111,\"#46039f\"],[0.2222222222222222,\"#7201a8\"],[0.3333333333333333,\"#9c179e\"],[0.4444444444444444,\"#bd3786\"],[0.5555555555555556,\"#d8576b\"],[0.6666666666666666,\"#ed7953\"],[0.7777777777777778,\"#fb9f3a\"],[0.8888888888888888,\"#fdca26\"],[1.0,\"#f0f921\"]]}],\"heatmap\":[{\"type\":\"heatmap\",\"colorbar\":{\"outlinewidth\":0,\"ticks\":\"\"},\"colorscale\":[[0.0,\"#0d0887\"],[0.1111111111111111,\"#46039f\"],[0.2222222222222222,\"#7201a8\"],[0.3333333333333333,\"#9c179e\"],[0.4444444444444444,\"#bd3786\"],[0.5555555555555556,\"#d8576b\"],[0.6666666666666666,\"#ed7953\"],[0.7777777777777778,\"#fb9f3a\"],[0.8888888888888888,\"#fdca26\"],[1.0,\"#f0f921\"]]}],\"heatmapgl\":[{\"type\":\"heatmapgl\",\"colorbar\":{\"outlinewidth\":0,\"ticks\":\"\"},\"colorscale\":[[0.0,\"#0d0887\"],[0.1111111111111111,\"#46039f\"],[0.2222222222222222,\"#7201a8\"],[0.3333333333333333,\"#9c179e\"],[0.4444444444444444,\"#bd3786\"],[0.5555555555555556,\"#d8576b\"],[0.6666666666666666,\"#ed7953\"],[0.7777777777777778,\"#fb9f3a\"],[0.8888888888888888,\"#fdca26\"],[1.0,\"#f0f921\"]]}],\"contourcarpet\":[{\"type\":\"contourcarpet\",\"colorbar\":{\"outlinewidth\":0,\"ticks\":\"\"}}],\"contour\":[{\"type\":\"contour\",\"colorbar\":{\"outlinewidth\":0,\"ticks\":\"\"},\"colorscale\":[[0.0,\"#0d0887\"],[0.1111111111111111,\"#46039f\"],[0.2222222222222222,\"#7201a8\"],[0.3333333333333333,\"#9c179e\"],[0.4444444444444444,\"#bd3786\"],[0.5555555555555556,\"#d8576b\"],[0.6666666666666666,\"#ed7953\"],[0.7777777777777778,\"#fb9f3a\"],[0.8888888888888888,\"#fdca26\"],[1.0,\"#f0f921\"]]}],\"surface\":[{\"type\":\"surface\",\"colorbar\":{\"outlinewidth\":0,\"ticks\":\"\"},\"colorscale\":[[0.0,\"#0d0887\"],[0.1111111111111111,\"#46039f\"],[0.2222222222222222,\"#7201a8\"],[0.3333333333333333,\"#9c179e\"],[0.4444444444444444,\"#bd3786\"],[0.5555555555555556,\"#d8576b\"],[0.6666666666666666,\"#ed7953\"],[0.7777777777777778,\"#fb9f3a\"],[0.8888888888888888,\"#fdca26\"],[1.0,\"#f0f921\"]]}],\"mesh3d\":[{\"type\":\"mesh3d\",\"colorbar\":{\"outlinewidth\":0,\"ticks\":\"\"}}],\"scatter\":[{\"fillpattern\":{\"fillmode\":\"overlay\",\"size\":10,\"solidity\":0.2},\"type\":\"scatter\"}],\"parcoords\":[{\"type\":\"parcoords\",\"line\":{\"colorbar\":{\"outlinewidth\":0,\"ticks\":\"\"}}}],\"scatterpolargl\":[{\"type\":\"scatterpolargl\",\"marker\":{\"colorbar\":{\"outlinewidth\":0,\"ticks\":\"\"}}}],\"bar\":[{\"error_x\":{\"color\":\"#2a3f5f\"},\"error_y\":{\"color\":\"#2a3f5f\"},\"marker\":{\"line\":{\"color\":\"#E5ECF6\",\"width\":0.5},\"pattern\":{\"fillmode\":\"overlay\",\"size\":10,\"solidity\":0.2}},\"type\":\"bar\"}],\"scattergeo\":[{\"type\":\"scattergeo\",\"marker\":{\"colorbar\":{\"outlinewidth\":0,\"ticks\":\"\"}}}],\"scatterpolar\":[{\"type\":\"scatterpolar\",\"marker\":{\"colorbar\":{\"outlinewidth\":0,\"ticks\":\"\"}}}],\"histogram\":[{\"marker\":{\"pattern\":{\"fillmode\":\"overlay\",\"size\":10,\"solidity\":0.2}},\"type\":\"histogram\"}],\"scattergl\":[{\"type\":\"scattergl\",\"marker\":{\"colorbar\":{\"outlinewidth\":0,\"ticks\":\"\"}}}],\"scatter3d\":[{\"type\":\"scatter3d\",\"line\":{\"colorbar\":{\"outlinewidth\":0,\"ticks\":\"\"}},\"marker\":{\"colorbar\":{\"outlinewidth\":0,\"ticks\":\"\"}}}],\"scattermapbox\":[{\"type\":\"scattermapbox\",\"marker\":{\"colorbar\":{\"outlinewidth\":0,\"ticks\":\"\"}}}],\"scatterternary\":[{\"type\":\"scatterternary\",\"marker\":{\"colorbar\":{\"outlinewidth\":0,\"ticks\":\"\"}}}],\"scattercarpet\":[{\"type\":\"scattercarpet\",\"marker\":{\"colorbar\":{\"outlinewidth\":0,\"ticks\":\"\"}}}],\"carpet\":[{\"aaxis\":{\"endlinecolor\":\"#2a3f5f\",\"gridcolor\":\"white\",\"linecolor\":\"white\",\"minorgridcolor\":\"white\",\"startlinecolor\":\"#2a3f5f\"},\"baxis\":{\"endlinecolor\":\"#2a3f5f\",\"gridcolor\":\"white\",\"linecolor\":\"white\",\"minorgridcolor\":\"white\",\"startlinecolor\":\"#2a3f5f\"},\"type\":\"carpet\"}],\"table\":[{\"cells\":{\"fill\":{\"color\":\"#EBF0F8\"},\"line\":{\"color\":\"white\"}},\"header\":{\"fill\":{\"color\":\"#C8D4E3\"},\"line\":{\"color\":\"white\"}},\"type\":\"table\"}],\"barpolar\":[{\"marker\":{\"line\":{\"color\":\"#E5ECF6\",\"width\":0.5},\"pattern\":{\"fillmode\":\"overlay\",\"size\":10,\"solidity\":0.2}},\"type\":\"barpolar\"}],\"pie\":[{\"automargin\":true,\"type\":\"pie\"}]},\"layout\":{\"autotypenumbers\":\"strict\",\"colorway\":[\"#636efa\",\"#EF553B\",\"#00cc96\",\"#ab63fa\",\"#FFA15A\",\"#19d3f3\",\"#FF6692\",\"#B6E880\",\"#FF97FF\",\"#FECB52\"],\"font\":{\"color\":\"#2a3f5f\"},\"hovermode\":\"closest\",\"hoverlabel\":{\"align\":\"left\"},\"paper_bgcolor\":\"white\",\"plot_bgcolor\":\"#E5ECF6\",\"polar\":{\"bgcolor\":\"#E5ECF6\",\"angularaxis\":{\"gridcolor\":\"white\",\"linecolor\":\"white\",\"ticks\":\"\"},\"radialaxis\":{\"gridcolor\":\"white\",\"linecolor\":\"white\",\"ticks\":\"\"}},\"ternary\":{\"bgcolor\":\"#E5ECF6\",\"aaxis\":{\"gridcolor\":\"white\",\"linecolor\":\"white\",\"ticks\":\"\"},\"baxis\":{\"gridcolor\":\"white\",\"linecolor\":\"white\",\"ticks\":\"\"},\"caxis\":{\"gridcolor\":\"white\",\"linecolor\":\"white\",\"ticks\":\"\"}},\"coloraxis\":{\"colorbar\":{\"outlinewidth\":0,\"ticks\":\"\"}},\"colorscale\":{\"sequential\":[[0.0,\"#0d0887\"],[0.1111111111111111,\"#46039f\"],[0.2222222222222222,\"#7201a8\"],[0.3333333333333333,\"#9c179e\"],[0.4444444444444444,\"#bd3786\"],[0.5555555555555556,\"#d8576b\"],[0.6666666666666666,\"#ed7953\"],[0.7777777777777778,\"#fb9f3a\"],[0.8888888888888888,\"#fdca26\"],[1.0,\"#f0f921\"]],\"sequentialminus\":[[0.0,\"#0d0887\"],[0.1111111111111111,\"#46039f\"],[0.2222222222222222,\"#7201a8\"],[0.3333333333333333,\"#9c179e\"],[0.4444444444444444,\"#bd3786\"],[0.5555555555555556,\"#d8576b\"],[0.6666666666666666,\"#ed7953\"],[0.7777777777777778,\"#fb9f3a\"],[0.8888888888888888,\"#fdca26\"],[1.0,\"#f0f921\"]],\"diverging\":[[0,\"#8e0152\"],[0.1,\"#c51b7d\"],[0.2,\"#de77ae\"],[0.3,\"#f1b6da\"],[0.4,\"#fde0ef\"],[0.5,\"#f7f7f7\"],[0.6,\"#e6f5d0\"],[0.7,\"#b8e186\"],[0.8,\"#7fbc41\"],[0.9,\"#4d9221\"],[1,\"#276419\"]]},\"xaxis\":{\"gridcolor\":\"white\",\"linecolor\":\"white\",\"ticks\":\"\",\"title\":{\"standoff\":15},\"zerolinecolor\":\"white\",\"automargin\":true,\"zerolinewidth\":2},\"yaxis\":{\"gridcolor\":\"white\",\"linecolor\":\"white\",\"ticks\":\"\",\"title\":{\"standoff\":15},\"zerolinecolor\":\"white\",\"automargin\":true,\"zerolinewidth\":2},\"scene\":{\"xaxis\":{\"backgroundcolor\":\"#E5ECF6\",\"gridcolor\":\"white\",\"linecolor\":\"white\",\"showbackground\":true,\"ticks\":\"\",\"zerolinecolor\":\"white\",\"gridwidth\":2},\"yaxis\":{\"backgroundcolor\":\"#E5ECF6\",\"gridcolor\":\"white\",\"linecolor\":\"white\",\"showbackground\":true,\"ticks\":\"\",\"zerolinecolor\":\"white\",\"gridwidth\":2},\"zaxis\":{\"backgroundcolor\":\"#E5ECF6\",\"gridcolor\":\"white\",\"linecolor\":\"white\",\"showbackground\":true,\"ticks\":\"\",\"zerolinecolor\":\"white\",\"gridwidth\":2}},\"shapedefaults\":{\"line\":{\"color\":\"#2a3f5f\"}},\"annotationdefaults\":{\"arrowcolor\":\"#2a3f5f\",\"arrowhead\":0,\"arrowwidth\":1},\"geo\":{\"bgcolor\":\"white\",\"landcolor\":\"#E5ECF6\",\"subunitcolor\":\"white\",\"showland\":true,\"showlakes\":true,\"lakecolor\":\"white\"},\"title\":{\"x\":0.05},\"mapbox\":{\"style\":\"light\"}}},\"mapbox\":{\"domain\":{\"x\":[0.0,1.0],\"y\":[0.0,1.0]},\"center\":{\"lat\":48.8534951,\"lon\":2.3483915},\"zoom\":8,\"style\":\"carto-positron\"},\"legend\":{\"tracegroupgap\":0},\"margin\":{\"t\":60}},                        {\"responsive\": true}                    ).then(function(){\n",
       "                            \n",
       "var gd = document.getElementById('8e5c408e-9427-4925-b14e-05100dd4cbb1');\n",
       "var x = new MutationObserver(function (mutations, observer) {{\n",
       "        var display = window.getComputedStyle(gd).display;\n",
       "        if (!display || display === 'none') {{\n",
       "            console.log([gd, 'removed!']);\n",
       "            Plotly.purge(gd);\n",
       "            observer.disconnect();\n",
       "        }}\n",
       "}});\n",
       "\n",
       "// Listen for the removal of the full notebook cells\n",
       "var notebookContainer = gd.closest('#notebook-container');\n",
       "if (notebookContainer) {{\n",
       "    x.observe(notebookContainer, {childList: true});\n",
       "}}\n",
       "\n",
       "// Listen for the clearing of the current output cell\n",
       "var outputEl = gd.closest('.output');\n",
       "if (outputEl) {{\n",
       "    x.observe(outputEl, {childList: true});\n",
       "}}\n",
       "\n",
       "                        })                };                });            </script>        </div>"
      ]
     },
     "metadata": {},
     "output_type": "display_data"
    }
   ],
   "source": [
    "coord = {'lon': 2.3483915,'lat': 48.8534951,'city':'Paris'}\n",
    "df_coord = pd.DataFrame(coord, index=[1])\n",
    "display(df_coord)\n",
    "\n",
    "fig3 = px.scatter_mapbox(data_frame = df_coord,\n",
    "                         lat = 'lat',\n",
    "                         lon = 'lon',\n",
    "                         #text = 'city', already on the map\n",
    "                         mapbox_style='carto-positron')   #,size=, mapbox_style='open-street-map' = very precise\n",
    "fig3.show(renderer=\"notebook_connected\") # nothing, not even a map"
   ]
  }
 ],
 "metadata": {
  "kernelspec": {
   "display_name": "Python 3",
   "language": "python",
   "name": "python3"
  },
  "language_info": {
   "codemirror_mode": {
    "name": "ipython",
    "version": 3
   },
   "file_extension": ".py",
   "mimetype": "text/x-python",
   "name": "python",
   "nbconvert_exporter": "python",
   "pygments_lexer": "ipython3",
   "version": "3.10.12"
  }
 },
 "nbformat": 4,
 "nbformat_minor": 2
}
